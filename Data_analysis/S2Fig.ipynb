{
 "cells": [
  {
   "cell_type": "code",
   "execution_count": 1,
   "id": "47a8e329-c1c0-442a-b60e-a5d05db48701",
   "metadata": {},
   "outputs": [],
   "source": [
    "import numpy as np\n",
    "import math\n",
    "import pandas as pd\n",
    "import matplotlib.pyplot as plt\n",
    "import seaborn as sns\n",
    "import matplotlib.ticker as ticker\n",
    "import scipy.stats as stats\n",
    "plt.rcParams['savefig.dpi'] = 600\n",
    "from matplotlib import cm\n",
    "import matplotlib.colors as colors\n",
    "import matplotlib.gridspec as gridspec"
   ]
  },
  {
   "cell_type": "markdown",
   "id": "4d59333e-cced-44e1-ad88-956c89c6fb28",
   "metadata": {},
   "source": [
    "## 1) Generate the non-redundant set of F3-F4 mutations"
   ]
  },
  {
   "cell_type": "code",
   "execution_count": 3,
   "id": "9e4545f5-dd2b-4a75-b7ac-0508089a846f",
   "metadata": {},
   "outputs": [],
   "source": [
    "F3F4_seq = \"ATTCCTTGCAGGGGCGGTAGTACCCGGAGACCCTGAACTTTTCTTTTTTTTTTTGCGAAATTAAAAAGTTCATTTTCAATTCGACAATGAGATCTACAAGCCATTGTTTTATGTTGATGAGAGCCAGCTTAAAGAGTTAAAAATTTCATAGCTA\""
   ]
  },
  {
   "cell_type": "markdown",
   "id": "86246781-48cc-4323-996c-cbd55a714c46",
   "metadata": {},
   "source": [
    "For substitutions:"
   ]
  },
  {
   "cell_type": "code",
   "execution_count": 5,
   "id": "ee975d14-e415-49f6-8968-aa499d14bbfc",
   "metadata": {},
   "outputs": [],
   "source": [
    "sub_list = []"
   ]
  },
  {
   "cell_type": "code",
   "execution_count": 6,
   "id": "8c70c031-28a1-4ba6-8c4d-4b46fafe8d29",
   "metadata": {},
   "outputs": [],
   "source": [
    "for pos, nt in enumerate(F3F4_seq):\n",
    "    pos_ref = pos + 52\n",
    "\n",
    "    for nt_char in ['A', 'T', 'G', 'C']:\n",
    "\n",
    "        if nt_char == nt:\n",
    "            continue\n",
    "        else:\n",
    "            mut_seq = F3F4_seq[:pos] + nt_char + F3F4_seq[pos+1:]\n",
    "            mut_code = f'S-{pos_ref}_1nt_{nt}to{nt_char}'\n",
    "            current_dict = {'Seq': mut_seq, 'Code': mut_code, 'Position': pos_ref, 'Mutation': nt_char}\n",
    "            \n",
    "            sub_list += [current_dict] "
   ]
  },
  {
   "cell_type": "code",
   "execution_count": 7,
   "id": "2224f317-21ea-4048-8b36-446dad9e1f29",
   "metadata": {},
   "outputs": [],
   "source": [
    "sub_df = pd.DataFrame(sub_list)"
   ]
  },
  {
   "cell_type": "markdown",
   "id": "9a9451a4-9625-4dcb-9daf-276fccf3020a",
   "metadata": {},
   "source": [
    "In this case, the set is already non-redundant"
   ]
  },
  {
   "cell_type": "markdown",
   "id": "98b22535-87ca-4423-b911-40c4f9d5b0a0",
   "metadata": {},
   "source": [
    "For insertions:"
   ]
  },
  {
   "cell_type": "code",
   "execution_count": 10,
   "id": "75e11d47-a1b5-4b32-8760-2296ee577162",
   "metadata": {},
   "outputs": [],
   "source": [
    "ins_list = []"
   ]
  },
  {
   "cell_type": "code",
   "execution_count": 11,
   "id": "faab48e0-987d-4b3e-a679-bfa7795756b3",
   "metadata": {},
   "outputs": [],
   "source": [
    "for pos, nt in enumerate(F3F4_seq):\n",
    "    pos_ref = pos + 52\n",
    "\n",
    "    for nt_char in ['A', 'T', 'G', 'C']:\n",
    "        mut_seq = F3F4_seq[:pos+1] + nt_char + F3F4_seq[pos+1:]\n",
    "\n",
    "        mut_code = f'I-{pos_ref}_1nt_-to{nt_char}'\n",
    "        \n",
    "        current_dict = {'Seq': mut_seq, 'Code': mut_code, 'Position': pos_ref, 'Mutation': f'{nt_char} insertion'}\n",
    "\n",
    "        ins_list += [current_dict] "
   ]
  },
  {
   "cell_type": "code",
   "execution_count": 12,
   "id": "e92628e9-0d8f-4ca7-81dc-332ee8f692a6",
   "metadata": {},
   "outputs": [],
   "source": [
    "ins_df = pd.DataFrame(ins_list)"
   ]
  },
  {
   "cell_type": "code",
   "execution_count": 13,
   "id": "6cb5fbe8-2e54-42fe-87f6-d13f3d450a66",
   "metadata": {},
   "outputs": [],
   "source": [
    "index_tokeep = []\n",
    "for seq in ins_df['Seq'].unique():\n",
    "    df_subset = ins_df[ins_df['Seq'] == seq].copy().sort_values(by=['Position'], ascending=True)\n",
    "    min_pos = np.min(df_subset['Position'])\n",
    "    current_ind = df_subset[df_subset['Position'] == min_pos].index[0]\n",
    "    index_tokeep += [current_ind]"
   ]
  },
  {
   "cell_type": "code",
   "execution_count": 14,
   "id": "2f4ff66a-8d19-4706-9bcb-a48bae30105c",
   "metadata": {},
   "outputs": [],
   "source": [
    "# non redundant set\n",
    "ins_final = ins_df.loc[index_tokeep,:].copy().reset_index(drop=True)"
   ]
  },
  {
   "cell_type": "code",
   "execution_count": 15,
   "id": "9d923af7-eeaa-457a-95e8-22e17056ee0a",
   "metadata": {},
   "outputs": [
    {
     "data": {
      "text/html": [
       "<div>\n",
       "<style scoped>\n",
       "    .dataframe tbody tr th:only-of-type {\n",
       "        vertical-align: middle;\n",
       "    }\n",
       "\n",
       "    .dataframe tbody tr th {\n",
       "        vertical-align: top;\n",
       "    }\n",
       "\n",
       "    .dataframe thead th {\n",
       "        text-align: right;\n",
       "    }\n",
       "</style>\n",
       "<table border=\"1\" class=\"dataframe\">\n",
       "  <thead>\n",
       "    <tr style=\"text-align: right;\">\n",
       "      <th></th>\n",
       "      <th>Seq</th>\n",
       "      <th>Code</th>\n",
       "      <th>Position</th>\n",
       "      <th>Mutation</th>\n",
       "    </tr>\n",
       "  </thead>\n",
       "  <tbody>\n",
       "    <tr>\n",
       "      <th>0</th>\n",
       "      <td>AATTCCTTGCAGGGGCGGTAGTACCCGGAGACCCTGAACTTTTCTT...</td>\n",
       "      <td>I-52_1nt_-toA</td>\n",
       "      <td>52</td>\n",
       "      <td>A insertion</td>\n",
       "    </tr>\n",
       "    <tr>\n",
       "      <th>1</th>\n",
       "      <td>ATTTCCTTGCAGGGGCGGTAGTACCCGGAGACCCTGAACTTTTCTT...</td>\n",
       "      <td>I-52_1nt_-toT</td>\n",
       "      <td>52</td>\n",
       "      <td>T insertion</td>\n",
       "    </tr>\n",
       "    <tr>\n",
       "      <th>2</th>\n",
       "      <td>AGTTCCTTGCAGGGGCGGTAGTACCCGGAGACCCTGAACTTTTCTT...</td>\n",
       "      <td>I-52_1nt_-toG</td>\n",
       "      <td>52</td>\n",
       "      <td>G insertion</td>\n",
       "    </tr>\n",
       "    <tr>\n",
       "      <th>3</th>\n",
       "      <td>ACTTCCTTGCAGGGGCGGTAGTACCCGGAGACCCTGAACTTTTCTT...</td>\n",
       "      <td>I-52_1nt_-toC</td>\n",
       "      <td>52</td>\n",
       "      <td>C insertion</td>\n",
       "    </tr>\n",
       "    <tr>\n",
       "      <th>4</th>\n",
       "      <td>ATATCCTTGCAGGGGCGGTAGTACCCGGAGACCCTGAACTTTTCTT...</td>\n",
       "      <td>I-53_1nt_-toA</td>\n",
       "      <td>53</td>\n",
       "      <td>A insertion</td>\n",
       "    </tr>\n",
       "    <tr>\n",
       "      <th>...</th>\n",
       "      <td>...</td>\n",
       "      <td>...</td>\n",
       "      <td>...</td>\n",
       "      <td>...</td>\n",
       "    </tr>\n",
       "    <tr>\n",
       "      <th>458</th>\n",
       "      <td>ATTCCTTGCAGGGGCGGTAGTACCCGGAGACCCTGAACTTTTCTTT...</td>\n",
       "      <td>I-204_1nt_-toG</td>\n",
       "      <td>204</td>\n",
       "      <td>G insertion</td>\n",
       "    </tr>\n",
       "    <tr>\n",
       "      <th>459</th>\n",
       "      <td>ATTCCTTGCAGGGGCGGTAGTACCCGGAGACCCTGAACTTTTCTTT...</td>\n",
       "      <td>I-204_1nt_-toC</td>\n",
       "      <td>204</td>\n",
       "      <td>C insertion</td>\n",
       "    </tr>\n",
       "    <tr>\n",
       "      <th>460</th>\n",
       "      <td>ATTCCTTGCAGGGGCGGTAGTACCCGGAGACCCTGAACTTTTCTTT...</td>\n",
       "      <td>I-205_1nt_-toT</td>\n",
       "      <td>205</td>\n",
       "      <td>T insertion</td>\n",
       "    </tr>\n",
       "    <tr>\n",
       "      <th>461</th>\n",
       "      <td>ATTCCTTGCAGGGGCGGTAGTACCCGGAGACCCTGAACTTTTCTTT...</td>\n",
       "      <td>I-205_1nt_-toG</td>\n",
       "      <td>205</td>\n",
       "      <td>G insertion</td>\n",
       "    </tr>\n",
       "    <tr>\n",
       "      <th>462</th>\n",
       "      <td>ATTCCTTGCAGGGGCGGTAGTACCCGGAGACCCTGAACTTTTCTTT...</td>\n",
       "      <td>I-205_1nt_-toC</td>\n",
       "      <td>205</td>\n",
       "      <td>C insertion</td>\n",
       "    </tr>\n",
       "  </tbody>\n",
       "</table>\n",
       "<p>463 rows × 4 columns</p>\n",
       "</div>"
      ],
      "text/plain": [
       "                                                   Seq            Code  \\\n",
       "0    AATTCCTTGCAGGGGCGGTAGTACCCGGAGACCCTGAACTTTTCTT...   I-52_1nt_-toA   \n",
       "1    ATTTCCTTGCAGGGGCGGTAGTACCCGGAGACCCTGAACTTTTCTT...   I-52_1nt_-toT   \n",
       "2    AGTTCCTTGCAGGGGCGGTAGTACCCGGAGACCCTGAACTTTTCTT...   I-52_1nt_-toG   \n",
       "3    ACTTCCTTGCAGGGGCGGTAGTACCCGGAGACCCTGAACTTTTCTT...   I-52_1nt_-toC   \n",
       "4    ATATCCTTGCAGGGGCGGTAGTACCCGGAGACCCTGAACTTTTCTT...   I-53_1nt_-toA   \n",
       "..                                                 ...             ...   \n",
       "458  ATTCCTTGCAGGGGCGGTAGTACCCGGAGACCCTGAACTTTTCTTT...  I-204_1nt_-toG   \n",
       "459  ATTCCTTGCAGGGGCGGTAGTACCCGGAGACCCTGAACTTTTCTTT...  I-204_1nt_-toC   \n",
       "460  ATTCCTTGCAGGGGCGGTAGTACCCGGAGACCCTGAACTTTTCTTT...  I-205_1nt_-toT   \n",
       "461  ATTCCTTGCAGGGGCGGTAGTACCCGGAGACCCTGAACTTTTCTTT...  I-205_1nt_-toG   \n",
       "462  ATTCCTTGCAGGGGCGGTAGTACCCGGAGACCCTGAACTTTTCTTT...  I-205_1nt_-toC   \n",
       "\n",
       "     Position     Mutation  \n",
       "0          52  A insertion  \n",
       "1          52  T insertion  \n",
       "2          52  G insertion  \n",
       "3          52  C insertion  \n",
       "4          53  A insertion  \n",
       "..        ...          ...  \n",
       "458       204  G insertion  \n",
       "459       204  C insertion  \n",
       "460       205  T insertion  \n",
       "461       205  G insertion  \n",
       "462       205  C insertion  \n",
       "\n",
       "[463 rows x 4 columns]"
      ]
     },
     "execution_count": 15,
     "metadata": {},
     "output_type": "execute_result"
    }
   ],
   "source": [
    "ins_final"
   ]
  },
  {
   "cell_type": "markdown",
   "id": "47541e09-9af6-457e-9edf-cc264237efc4",
   "metadata": {},
   "source": [
    "For deletions:"
   ]
  },
  {
   "cell_type": "code",
   "execution_count": 17,
   "id": "2c61be1e-d9d9-40bc-8ea0-39c5b5e7a1eb",
   "metadata": {},
   "outputs": [],
   "source": [
    "del_list = []"
   ]
  },
  {
   "cell_type": "code",
   "execution_count": 18,
   "id": "5bcf2c97-16aa-4b7f-af90-7e0a32e058b8",
   "metadata": {},
   "outputs": [],
   "source": [
    "for pos, nt in enumerate(F3F4_seq):\n",
    "    pos_ref = pos + 52\n",
    "    \n",
    "    mut_seq = F3F4_seq[:pos] + F3F4_seq[pos+1:]\n",
    "\n",
    "    mut_code = f'D-{pos_ref}_1nt_{nt}to-'\n",
    "        \n",
    "    current_dict = {'Seq': mut_seq, 'Code': mut_code, 'Position': pos_ref, 'Mutation': 'Deletion'}\n",
    "\n",
    "    del_list += [current_dict] "
   ]
  },
  {
   "cell_type": "code",
   "execution_count": 19,
   "id": "6062f587-ce18-4114-a439-4890acb10082",
   "metadata": {},
   "outputs": [],
   "source": [
    "del_df = pd.DataFrame(del_list)"
   ]
  },
  {
   "cell_type": "code",
   "execution_count": 20,
   "id": "02e9d3d8-6bb5-44a8-84a6-61fd56493739",
   "metadata": {},
   "outputs": [],
   "source": [
    "index_tokeep = []\n",
    "for seq in del_df['Seq'].unique():\n",
    "    df_subset = del_df[del_df['Seq'] == seq].copy().sort_values(by=['Position'], ascending=True)\n",
    "    min_pos = np.min(df_subset['Position'])\n",
    "    current_ind = df_subset[df_subset['Position'] == min_pos].index[0]\n",
    "    index_tokeep += [current_ind]"
   ]
  },
  {
   "cell_type": "code",
   "execution_count": 21,
   "id": "d3116c26-6031-4ad9-8ad8-e268537e53b7",
   "metadata": {},
   "outputs": [],
   "source": [
    "# non redundant set\n",
    "del_final = del_df.loc[index_tokeep,:].copy().reset_index(drop=True)"
   ]
  },
  {
   "cell_type": "code",
   "execution_count": 22,
   "id": "e55c7776-33d9-41db-a0d7-3833d051e678",
   "metadata": {},
   "outputs": [
    {
     "data": {
      "text/html": [
       "<div>\n",
       "<style scoped>\n",
       "    .dataframe tbody tr th:only-of-type {\n",
       "        vertical-align: middle;\n",
       "    }\n",
       "\n",
       "    .dataframe tbody tr th {\n",
       "        vertical-align: top;\n",
       "    }\n",
       "\n",
       "    .dataframe thead th {\n",
       "        text-align: right;\n",
       "    }\n",
       "</style>\n",
       "<table border=\"1\" class=\"dataframe\">\n",
       "  <thead>\n",
       "    <tr style=\"text-align: right;\">\n",
       "      <th></th>\n",
       "      <th>Seq</th>\n",
       "      <th>Code</th>\n",
       "      <th>Position</th>\n",
       "      <th>Mutation</th>\n",
       "    </tr>\n",
       "  </thead>\n",
       "  <tbody>\n",
       "    <tr>\n",
       "      <th>0</th>\n",
       "      <td>TTCCTTGCAGGGGCGGTAGTACCCGGAGACCCTGAACTTTTCTTTT...</td>\n",
       "      <td>D-52_1nt_Ato-</td>\n",
       "      <td>52</td>\n",
       "      <td>Deletion</td>\n",
       "    </tr>\n",
       "    <tr>\n",
       "      <th>1</th>\n",
       "      <td>ATCCTTGCAGGGGCGGTAGTACCCGGAGACCCTGAACTTTTCTTTT...</td>\n",
       "      <td>D-53_1nt_Tto-</td>\n",
       "      <td>53</td>\n",
       "      <td>Deletion</td>\n",
       "    </tr>\n",
       "    <tr>\n",
       "      <th>2</th>\n",
       "      <td>ATTCTTGCAGGGGCGGTAGTACCCGGAGACCCTGAACTTTTCTTTT...</td>\n",
       "      <td>D-55_1nt_Cto-</td>\n",
       "      <td>55</td>\n",
       "      <td>Deletion</td>\n",
       "    </tr>\n",
       "    <tr>\n",
       "      <th>3</th>\n",
       "      <td>ATTCCTGCAGGGGCGGTAGTACCCGGAGACCCTGAACTTTTCTTTT...</td>\n",
       "      <td>D-57_1nt_Tto-</td>\n",
       "      <td>57</td>\n",
       "      <td>Deletion</td>\n",
       "    </tr>\n",
       "    <tr>\n",
       "      <th>4</th>\n",
       "      <td>ATTCCTTCAGGGGCGGTAGTACCCGGAGACCCTGAACTTTTCTTTT...</td>\n",
       "      <td>D-59_1nt_Gto-</td>\n",
       "      <td>59</td>\n",
       "      <td>Deletion</td>\n",
       "    </tr>\n",
       "    <tr>\n",
       "      <th>...</th>\n",
       "      <td>...</td>\n",
       "      <td>...</td>\n",
       "      <td>...</td>\n",
       "      <td>...</td>\n",
       "    </tr>\n",
       "    <tr>\n",
       "      <th>91</th>\n",
       "      <td>ATTCCTTGCAGGGGCGGTAGTACCCGGAGACCCTGAACTTTTCTTT...</td>\n",
       "      <td>D-201_1nt_Ato-</td>\n",
       "      <td>201</td>\n",
       "      <td>Deletion</td>\n",
       "    </tr>\n",
       "    <tr>\n",
       "      <th>92</th>\n",
       "      <td>ATTCCTTGCAGGGGCGGTAGTACCCGGAGACCCTGAACTTTTCTTT...</td>\n",
       "      <td>D-202_1nt_Gto-</td>\n",
       "      <td>202</td>\n",
       "      <td>Deletion</td>\n",
       "    </tr>\n",
       "    <tr>\n",
       "      <th>93</th>\n",
       "      <td>ATTCCTTGCAGGGGCGGTAGTACCCGGAGACCCTGAACTTTTCTTT...</td>\n",
       "      <td>D-203_1nt_Cto-</td>\n",
       "      <td>203</td>\n",
       "      <td>Deletion</td>\n",
       "    </tr>\n",
       "    <tr>\n",
       "      <th>94</th>\n",
       "      <td>ATTCCTTGCAGGGGCGGTAGTACCCGGAGACCCTGAACTTTTCTTT...</td>\n",
       "      <td>D-204_1nt_Tto-</td>\n",
       "      <td>204</td>\n",
       "      <td>Deletion</td>\n",
       "    </tr>\n",
       "    <tr>\n",
       "      <th>95</th>\n",
       "      <td>ATTCCTTGCAGGGGCGGTAGTACCCGGAGACCCTGAACTTTTCTTT...</td>\n",
       "      <td>D-205_1nt_Ato-</td>\n",
       "      <td>205</td>\n",
       "      <td>Deletion</td>\n",
       "    </tr>\n",
       "  </tbody>\n",
       "</table>\n",
       "<p>96 rows × 4 columns</p>\n",
       "</div>"
      ],
      "text/plain": [
       "                                                  Seq            Code  \\\n",
       "0   TTCCTTGCAGGGGCGGTAGTACCCGGAGACCCTGAACTTTTCTTTT...   D-52_1nt_Ato-   \n",
       "1   ATCCTTGCAGGGGCGGTAGTACCCGGAGACCCTGAACTTTTCTTTT...   D-53_1nt_Tto-   \n",
       "2   ATTCTTGCAGGGGCGGTAGTACCCGGAGACCCTGAACTTTTCTTTT...   D-55_1nt_Cto-   \n",
       "3   ATTCCTGCAGGGGCGGTAGTACCCGGAGACCCTGAACTTTTCTTTT...   D-57_1nt_Tto-   \n",
       "4   ATTCCTTCAGGGGCGGTAGTACCCGGAGACCCTGAACTTTTCTTTT...   D-59_1nt_Gto-   \n",
       "..                                                ...             ...   \n",
       "91  ATTCCTTGCAGGGGCGGTAGTACCCGGAGACCCTGAACTTTTCTTT...  D-201_1nt_Ato-   \n",
       "92  ATTCCTTGCAGGGGCGGTAGTACCCGGAGACCCTGAACTTTTCTTT...  D-202_1nt_Gto-   \n",
       "93  ATTCCTTGCAGGGGCGGTAGTACCCGGAGACCCTGAACTTTTCTTT...  D-203_1nt_Cto-   \n",
       "94  ATTCCTTGCAGGGGCGGTAGTACCCGGAGACCCTGAACTTTTCTTT...  D-204_1nt_Tto-   \n",
       "95  ATTCCTTGCAGGGGCGGTAGTACCCGGAGACCCTGAACTTTTCTTT...  D-205_1nt_Ato-   \n",
       "\n",
       "    Position  Mutation  \n",
       "0         52  Deletion  \n",
       "1         53  Deletion  \n",
       "2         55  Deletion  \n",
       "3         57  Deletion  \n",
       "4         59  Deletion  \n",
       "..       ...       ...  \n",
       "91       201  Deletion  \n",
       "92       202  Deletion  \n",
       "93       203  Deletion  \n",
       "94       204  Deletion  \n",
       "95       205  Deletion  \n",
       "\n",
       "[96 rows x 4 columns]"
      ]
     },
     "execution_count": 22,
     "metadata": {},
     "output_type": "execute_result"
    }
   ],
   "source": [
    "del_final"
   ]
  },
  {
   "cell_type": "code",
   "execution_count": 23,
   "id": "288a950a-2c75-4ed4-9345-d99ff9560916",
   "metadata": {},
   "outputs": [],
   "source": [
    "# Complete non-redundant set of variants\n",
    "variants_nodup = pd.concat([sub_df, ins_final, del_final]).reset_index(drop=True)"
   ]
  },
  {
   "cell_type": "code",
   "execution_count": 24,
   "id": "67dc7e18-d4e2-4671-a959-8b713bb8890d",
   "metadata": {},
   "outputs": [
    {
     "data": {
      "text/html": [
       "<div>\n",
       "<style scoped>\n",
       "    .dataframe tbody tr th:only-of-type {\n",
       "        vertical-align: middle;\n",
       "    }\n",
       "\n",
       "    .dataframe tbody tr th {\n",
       "        vertical-align: top;\n",
       "    }\n",
       "\n",
       "    .dataframe thead th {\n",
       "        text-align: right;\n",
       "    }\n",
       "</style>\n",
       "<table border=\"1\" class=\"dataframe\">\n",
       "  <thead>\n",
       "    <tr style=\"text-align: right;\">\n",
       "      <th></th>\n",
       "      <th>Seq</th>\n",
       "      <th>Code</th>\n",
       "      <th>Position</th>\n",
       "      <th>Mutation</th>\n",
       "    </tr>\n",
       "  </thead>\n",
       "  <tbody>\n",
       "    <tr>\n",
       "      <th>0</th>\n",
       "      <td>TTTCCTTGCAGGGGCGGTAGTACCCGGAGACCCTGAACTTTTCTTT...</td>\n",
       "      <td>S-52_1nt_AtoT</td>\n",
       "      <td>52</td>\n",
       "      <td>T</td>\n",
       "    </tr>\n",
       "    <tr>\n",
       "      <th>1</th>\n",
       "      <td>GTTCCTTGCAGGGGCGGTAGTACCCGGAGACCCTGAACTTTTCTTT...</td>\n",
       "      <td>S-52_1nt_AtoG</td>\n",
       "      <td>52</td>\n",
       "      <td>G</td>\n",
       "    </tr>\n",
       "    <tr>\n",
       "      <th>2</th>\n",
       "      <td>CTTCCTTGCAGGGGCGGTAGTACCCGGAGACCCTGAACTTTTCTTT...</td>\n",
       "      <td>S-52_1nt_AtoC</td>\n",
       "      <td>52</td>\n",
       "      <td>C</td>\n",
       "    </tr>\n",
       "    <tr>\n",
       "      <th>3</th>\n",
       "      <td>AATCCTTGCAGGGGCGGTAGTACCCGGAGACCCTGAACTTTTCTTT...</td>\n",
       "      <td>S-53_1nt_TtoA</td>\n",
       "      <td>53</td>\n",
       "      <td>A</td>\n",
       "    </tr>\n",
       "    <tr>\n",
       "      <th>4</th>\n",
       "      <td>AGTCCTTGCAGGGGCGGTAGTACCCGGAGACCCTGAACTTTTCTTT...</td>\n",
       "      <td>S-53_1nt_TtoG</td>\n",
       "      <td>53</td>\n",
       "      <td>G</td>\n",
       "    </tr>\n",
       "    <tr>\n",
       "      <th>...</th>\n",
       "      <td>...</td>\n",
       "      <td>...</td>\n",
       "      <td>...</td>\n",
       "      <td>...</td>\n",
       "    </tr>\n",
       "    <tr>\n",
       "      <th>1016</th>\n",
       "      <td>ATTCCTTGCAGGGGCGGTAGTACCCGGAGACCCTGAACTTTTCTTT...</td>\n",
       "      <td>D-201_1nt_Ato-</td>\n",
       "      <td>201</td>\n",
       "      <td>Deletion</td>\n",
       "    </tr>\n",
       "    <tr>\n",
       "      <th>1017</th>\n",
       "      <td>ATTCCTTGCAGGGGCGGTAGTACCCGGAGACCCTGAACTTTTCTTT...</td>\n",
       "      <td>D-202_1nt_Gto-</td>\n",
       "      <td>202</td>\n",
       "      <td>Deletion</td>\n",
       "    </tr>\n",
       "    <tr>\n",
       "      <th>1018</th>\n",
       "      <td>ATTCCTTGCAGGGGCGGTAGTACCCGGAGACCCTGAACTTTTCTTT...</td>\n",
       "      <td>D-203_1nt_Cto-</td>\n",
       "      <td>203</td>\n",
       "      <td>Deletion</td>\n",
       "    </tr>\n",
       "    <tr>\n",
       "      <th>1019</th>\n",
       "      <td>ATTCCTTGCAGGGGCGGTAGTACCCGGAGACCCTGAACTTTTCTTT...</td>\n",
       "      <td>D-204_1nt_Tto-</td>\n",
       "      <td>204</td>\n",
       "      <td>Deletion</td>\n",
       "    </tr>\n",
       "    <tr>\n",
       "      <th>1020</th>\n",
       "      <td>ATTCCTTGCAGGGGCGGTAGTACCCGGAGACCCTGAACTTTTCTTT...</td>\n",
       "      <td>D-205_1nt_Ato-</td>\n",
       "      <td>205</td>\n",
       "      <td>Deletion</td>\n",
       "    </tr>\n",
       "  </tbody>\n",
       "</table>\n",
       "<p>1021 rows × 4 columns</p>\n",
       "</div>"
      ],
      "text/plain": [
       "                                                    Seq            Code  \\\n",
       "0     TTTCCTTGCAGGGGCGGTAGTACCCGGAGACCCTGAACTTTTCTTT...   S-52_1nt_AtoT   \n",
       "1     GTTCCTTGCAGGGGCGGTAGTACCCGGAGACCCTGAACTTTTCTTT...   S-52_1nt_AtoG   \n",
       "2     CTTCCTTGCAGGGGCGGTAGTACCCGGAGACCCTGAACTTTTCTTT...   S-52_1nt_AtoC   \n",
       "3     AATCCTTGCAGGGGCGGTAGTACCCGGAGACCCTGAACTTTTCTTT...   S-53_1nt_TtoA   \n",
       "4     AGTCCTTGCAGGGGCGGTAGTACCCGGAGACCCTGAACTTTTCTTT...   S-53_1nt_TtoG   \n",
       "...                                                 ...             ...   \n",
       "1016  ATTCCTTGCAGGGGCGGTAGTACCCGGAGACCCTGAACTTTTCTTT...  D-201_1nt_Ato-   \n",
       "1017  ATTCCTTGCAGGGGCGGTAGTACCCGGAGACCCTGAACTTTTCTTT...  D-202_1nt_Gto-   \n",
       "1018  ATTCCTTGCAGGGGCGGTAGTACCCGGAGACCCTGAACTTTTCTTT...  D-203_1nt_Cto-   \n",
       "1019  ATTCCTTGCAGGGGCGGTAGTACCCGGAGACCCTGAACTTTTCTTT...  D-204_1nt_Tto-   \n",
       "1020  ATTCCTTGCAGGGGCGGTAGTACCCGGAGACCCTGAACTTTTCTTT...  D-205_1nt_Ato-   \n",
       "\n",
       "      Position  Mutation  \n",
       "0           52         T  \n",
       "1           52         G  \n",
       "2           52         C  \n",
       "3           53         A  \n",
       "4           53         G  \n",
       "...        ...       ...  \n",
       "1016       201  Deletion  \n",
       "1017       202  Deletion  \n",
       "1018       203  Deletion  \n",
       "1019       204  Deletion  \n",
       "1020       205  Deletion  \n",
       "\n",
       "[1021 rows x 4 columns]"
      ]
     },
     "execution_count": 24,
     "metadata": {},
     "output_type": "execute_result"
    }
   ],
   "source": [
    "variants_nodup"
   ]
  },
  {
   "cell_type": "markdown",
   "id": "658c18e7-363a-4f7d-9208-fcb76bdd87e5",
   "metadata": {},
   "source": [
    "## 2) Comparisons with the T0 abundances"
   ]
  },
  {
   "cell_type": "code",
   "execution_count": 26,
   "id": "7585172b-6f79-46eb-bad4-6a867a009cd6",
   "metadata": {},
   "outputs": [],
   "source": [
    "reads_T0 = pd.read_csv(\"Data_compiled_25-04-08/s_all_1n_FCY1_300_final.csv\")[['Genotype', 'N_T0', 'Position', 'Bio_rep', 'Tech_rep',\n",
    "                                                                                 'With_CDS_spikeins', 'Condition']].copy()\n",
    "reads_T0 = reads_T0[(reads_T0['With_CDS_spikeins'] == False) & (reads_T0['Condition'] == 'WITH_5FC')].copy().reset_index(drop=True)"
   ]
  },
  {
   "cell_type": "code",
   "execution_count": 27,
   "id": "7e41592d-3718-4d7a-aedb-1568edeca46e",
   "metadata": {},
   "outputs": [],
   "source": [
    "# Median abundance by genotype\n",
    "T0_med = reads_T0[['Genotype', 'Position', 'N_T0']].groupby(by=['Genotype', 'Position'], as_index=False).median()\n",
    "\n",
    "# Number of libraries where above 85 reads\n",
    "T0_above = reads_T0[reads_T0['N_T0'] >= 85].copy().reset_index(drop=True)\n",
    "T0_above['N_libs'] = 1\n",
    "T0_above = T0_above[['Genotype', 'Position', 'N_libs']].groupby(by=['Genotype', 'Position'], as_index=False).sum()"
   ]
  },
  {
   "cell_type": "markdown",
   "id": "31a9c415-5756-441e-97f7-087e1c5cff30",
   "metadata": {},
   "source": [
    "Combining all the data"
   ]
  },
  {
   "cell_type": "code",
   "execution_count": 29,
   "id": "4dda80bf-2e1d-4990-8640-ff62253bd437",
   "metadata": {},
   "outputs": [],
   "source": [
    "variants_nodup = variants_nodup.rename(columns={'Code': 'Genotype'})\n",
    "\n",
    "variants_T0 = pd.merge(variants_nodup, T0_med, on=['Genotype', 'Position'], how='left')\n",
    "variants_T0 = pd.merge(variants_T0, T0_above, on=['Genotype', 'Position'], how='left')"
   ]
  },
  {
   "cell_type": "markdown",
   "id": "c9898cc5-a0a6-4c3b-bf20-dfc0ea710070",
   "metadata": {},
   "source": [
    "One variant is missing, with 0 reads across all samples. This is weird."
   ]
  },
  {
   "cell_type": "code",
   "execution_count": 31,
   "id": "6dba9b38-3d14-41d1-b560-2d5a2749d4e7",
   "metadata": {},
   "outputs": [],
   "source": [
    "missing_variant = variants_T0[variants_T0['N_T0'].isna()]['Genotype']"
   ]
  },
  {
   "cell_type": "markdown",
   "id": "cdf5eeb7-b892-45f7-82bc-eadaaaebfdd0",
   "metadata": {},
   "source": [
    "Before generating the matrix, all positions need to be modified by +1 for the insertions (so that the position is the one of the new base)"
   ]
  },
  {
   "cell_type": "code",
   "execution_count": 57,
   "id": "42cc75b5-9191-468f-bb05-29282df75d8f",
   "metadata": {},
   "outputs": [],
   "source": [
    "T0_ins = variants_T0[variants_T0['Mutation'].isin(['A insertion', 'T insertion','G insertion', 'C insertion'])].copy()\n",
    "T0_rest = variants_T0[~variants_T0['Mutation'].isin(['A insertion', 'T insertion','G insertion', 'C insertion'])].copy()\n",
    "\n",
    "T0_ins['Position'] += 1\n",
    "\n",
    "variants_T0 = pd.concat([T0_rest, T0_ins])"
   ]
  },
  {
   "cell_type": "markdown",
   "id": "b43157c5-3807-4623-b55f-f672882a5c9b",
   "metadata": {},
   "source": [
    "Generating a matrix of median read counts at T0"
   ]
  },
  {
   "cell_type": "code",
   "execution_count": 63,
   "id": "be143af5-4c8e-4bc8-9e24-e294bbd5d74b",
   "metadata": {},
   "outputs": [],
   "source": [
    "variants_T0['Log10 reads'] = np.log10(variants_T0['N_T0'])\n",
    "variants_T0['FCY1_position'] = variants_T0['Position'] - 205\n",
    "mat_counts = variants_T0.pivot(columns='FCY1_position', index='Mutation', values='Log10 reads')\n",
    "mat_counts = mat_counts.reindex(['A', 'T', 'G', 'C', 'A insertion', 'T insertion',\n",
    "                                'G insertion', 'C insertion', 'Deletion'])"
   ]
  },
  {
   "cell_type": "code",
   "execution_count": 65,
   "id": "ade687fa-7b86-4f0e-b846-788d6493d4cf",
   "metadata": {},
   "outputs": [
    {
     "data": {
      "text/html": [
       "<div>\n",
       "<style scoped>\n",
       "    .dataframe tbody tr th:only-of-type {\n",
       "        vertical-align: middle;\n",
       "    }\n",
       "\n",
       "    .dataframe tbody tr th {\n",
       "        vertical-align: top;\n",
       "    }\n",
       "\n",
       "    .dataframe thead th {\n",
       "        text-align: right;\n",
       "    }\n",
       "</style>\n",
       "<table border=\"1\" class=\"dataframe\">\n",
       "  <thead>\n",
       "    <tr style=\"text-align: right;\">\n",
       "      <th></th>\n",
       "      <th>Seq</th>\n",
       "      <th>Genotype</th>\n",
       "      <th>Position</th>\n",
       "      <th>Mutation</th>\n",
       "      <th>N_T0</th>\n",
       "      <th>N_libs</th>\n",
       "      <th>Log10 reads</th>\n",
       "      <th>FCY1_position</th>\n",
       "    </tr>\n",
       "  </thead>\n",
       "  <tbody>\n",
       "    <tr>\n",
       "      <th>462</th>\n",
       "      <td>AATTCCTTGCAGGGGCGGTAGTACCCGGAGACCCTGAACTTTTCTT...</td>\n",
       "      <td>I-52_1nt_-toA</td>\n",
       "      <td>53</td>\n",
       "      <td>A insertion</td>\n",
       "      <td>NaN</td>\n",
       "      <td>NaN</td>\n",
       "      <td>NaN</td>\n",
       "      <td>-152</td>\n",
       "    </tr>\n",
       "  </tbody>\n",
       "</table>\n",
       "</div>"
      ],
      "text/plain": [
       "                                                   Seq       Genotype  \\\n",
       "462  AATTCCTTGCAGGGGCGGTAGTACCCGGAGACCCTGAACTTTTCTT...  I-52_1nt_-toA   \n",
       "\n",
       "     Position     Mutation  N_T0  N_libs  Log10 reads  FCY1_position  \n",
       "462        53  A insertion   NaN     NaN          NaN           -152  "
      ]
     },
     "execution_count": 65,
     "metadata": {},
     "output_type": "execute_result"
    }
   ],
   "source": [
    "variants_T0[variants_T0['N_T0'].isna()]"
   ]
  },
  {
   "cell_type": "code",
   "execution_count": 625,
   "id": "8957cb4b-1f19-4ecf-9a24-6c5ddb4f63a3",
   "metadata": {},
   "outputs": [],
   "source": [
    "# To add 0 in the N_libs column for the only variant which was not found\n",
    "variants_T0 = variants_T0.fillna(0)"
   ]
  },
  {
   "cell_type": "markdown",
   "id": "ee027f1b-c034-42de-896e-6488d4167876",
   "metadata": {},
   "source": [
    "## 3) Generating the figure"
   ]
  },
  {
   "cell_type": "code",
   "execution_count": 627,
   "id": "9a2f6574-24fd-417c-af57-25bea8d4b1bd",
   "metadata": {},
   "outputs": [
    {
     "data": {
      "image/png": "[encoded data removed]",
      "text/plain": [
       "<Figure size 648x400 with 3 Axes>"
      ]
     },
     "metadata": {},
     "output_type": "display_data"
    }
   ],
   "source": [
    "plt.rcParams[\"axes.labelsize\"] = 12\n",
    "plt.rcParams[\"ytick.labelsize\"] = 11\n",
    "plt.rcParams[\"xtick.labelsize\"] = 11\n",
    "\n",
    "fig = plt.figure(constrained_layout=True, figsize=(6.48, 4))\n",
    "\n",
    "grid = gridspec.GridSpec(ncols=1, nrows=14, figure=fig)\n",
    "ax1 = fig.add_subplot(grid[0:10, 0])\n",
    "ax2 = fig.add_subplot(grid[11:14, 0])\n",
    "\n",
    "sns.heatmap(mat_counts, center=math.log10(85), cmap='coolwarm', cbar_kws={'label': r\"$Log_{10}$ median\" '\\n' r\"reads at T0\"}, ax=ax1)\n",
    "\n",
    "ax2.hist(variants_T0['N_libs'], log=True, bins=list(range(10)), align='left')\n",
    "\n",
    "# Annotating the two figures\n",
    "ax1.set_title('A', fontsize=18, loc='left')\n",
    "ax1.set_ylabel('')\n",
    "ax1.set_xlabel(r\"Position relative to $\\it{FCY1}$\")\n",
    "\n",
    "ax2.set_title('B', fontsize=18, loc='left')\n",
    "ax2.set_xlabel('Number of replicates where >85 reads at T0')\n",
    "ax2.set_ylabel('Variants')\n",
    "\n",
    "ax2.annotate(f'n={variants_T0[variants_T0['N_libs'] == 0].shape[0]}', (0, 300), va='center', ha='center', fontsize=9.75)\n",
    "ax2.annotate(f'n={variants_T0[variants_T0['N_libs'] == 4].shape[0]}', (4, 300), va='center', ha='center', fontsize=9.75)\n",
    "ax2.annotate(f'n={variants_T0[variants_T0['N_libs'] == 5].shape[0]}', (5, 300), va='center', ha='center', fontsize=9.75)\n",
    "ax2.annotate(f'n={variants_T0[variants_T0['N_libs'] == 6].shape[0]}', (6, 300), va='center', ha='center', fontsize=9.75)\n",
    "ax2.annotate(f'n={variants_T0[variants_T0['N_libs'] == 7].shape[0]}', (7, 300), va='center', ha='center', fontsize=9.75)\n",
    "ax2.annotate(f'n={variants_T0[variants_T0['N_libs'] == 8].shape[0]}', (8, 300), va='center', ha='center', fontsize=9.75, color='white')\n",
    "\n",
    "# Saving the figure\n",
    "FigS2 = plt.gcf()\n",
    "FigS2.savefig('Supp_figs/S2Fig.tiff', bbox_inches='tight')"
   ]
  },
  {
   "cell_type": "code",
   "execution_count": null,
   "id": "defd9c89-647a-49ed-84ae-5e7bb40f70c2",
   "metadata": {},
   "outputs": [],
   "source": []
  }
 ],
 "metadata": {
  "kernelspec": {
   "display_name": "FCY1prom",
   "language": "python",
   "name": "fcy1prom"
  },
  "language_info": {
   "codemirror_mode": {
    "name": "ipython",
    "version": 3
   },
   "file_extension": ".py",
   "mimetype": "text/x-python",
   "name": "python",
   "nbconvert_exporter": "python",
   "pygments_lexer": "ipython3",
   "version": "3.12.9"
  }
 },
 "nbformat": 4,
 "nbformat_minor": 5
}
